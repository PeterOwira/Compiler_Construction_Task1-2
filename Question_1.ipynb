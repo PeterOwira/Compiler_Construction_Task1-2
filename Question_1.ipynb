{
  "nbformat": 4,
  "nbformat_minor": 0,
  "metadata": {
    "colab": {
      "provenance": []
    },
    "kernelspec": {
      "name": "python3",
      "display_name": "Python 3"
    },
    "language_info": {
      "name": "python"
    }
  },
  "cells": [
    {
      "cell_type": "markdown",
      "source": [
        "# Task 1"
      ],
      "metadata": {
        "id": "BI9wX5yIHKtT"
      }
    },
    {
      "cell_type": "markdown",
      "source": [
        "\n",
        "* For us to determine whether programming lines is a comment or not we used lexical analysis to tokenize the input code and then check each token to determine if it represents a comment or not.This is because we are not analyzing the correctness of the code its only whether lines are either comments  or not.\n",
        "* For python \"#\" denotes a single line comment while \"/* */\" denotes a multi-line comment"
      ],
      "metadata": {
        "id": "AwtMXRu4FjgS"
      }
    },
    {
      "cell_type": "code",
      "source": [
        "def comments_re(code):\n",
        "\n",
        "    # split the code into lines\n",
        "    lines = code.splitlines()\n",
        "\n",
        "    # iterate through each line\n",
        "    for line in lines:\n",
        "      # for a line which start with \"#\"\n",
        "        if line.startswith(\"#\"):\n",
        "            print(f\"Comment: {line}\")\n",
        "            # for a line with both \"/*\" and \"*/\"\n",
        "        elif \"/*\" in line and \"*/\" in line:\n",
        "            print(f\"Multi-line Comment: {line}\")\n",
        "        else:\n",
        "            print(f\"Code: {line}\")"
      ],
      "metadata": {
        "id": "GTJAGfrf2Ot8"
      },
      "execution_count": 1,
      "outputs": []
    },
    {
      "cell_type": "code",
      "source": [
        "# Example\n",
        "python_code = \"\"\"\n",
        "# This is a single-line comment\n",
        "print(\"Hello, World!\")\n",
        "# Another single-line comment.\n",
        "/* This is a multi-line comment . Multi-Line Comment */\n",
        "num = 1  # This is not a comment\n",
        "\"\"\"\n",
        "\n",
        "comments_re(python_code)\n"
      ],
      "metadata": {
        "colab": {
          "base_uri": "https://localhost:8080/"
        },
        "id": "S84Gtbrb2T9Z",
        "outputId": "b09a9340-8a51-4ccd-baf2-b787c2517094"
      },
      "execution_count": 4,
      "outputs": [
        {
          "output_type": "stream",
          "name": "stdout",
          "text": [
            "Code: \n",
            "Comment: # This is a single-line comment\n",
            "Code: print(\"Hello, World!\")  \n",
            "Comment: # Another single-line comment.\n",
            "Multi-line Comment: /* This is a multi-line */ \n",
            "Code: comment . Multi-Line Comment */\n",
            "Code: num = 1  # This is not a comment\n"
          ]
        }
      ]
    }
  ]
}